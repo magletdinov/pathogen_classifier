{
 "cells": [
  {
   "cell_type": "code",
   "execution_count": 2,
   "id": "3fd8b14d-40e7-4fbe-909b-ba991d6b4cee",
   "metadata": {
    "tags": []
   },
   "outputs": [],
   "source": [
    "from pathlib import Path\n",
    "import pandas as pd\n",
    "import numpy as np\n",
    "import pickle\n",
    "import matplotlib.pyplot as plt\n",
    "import seaborn as sns\n",
    "\n",
    "from Bio import SeqIO\n",
    "from Bio.SeqRecord import SeqRecord\n",
    "from Bio.Seq import Seq"
   ]
  },
  {
   "cell_type": "code",
   "execution_count": 4,
   "id": "e6114085-4e60-4c0a-82de-da4e15474b44",
   "metadata": {
    "tags": []
   },
   "outputs": [],
   "source": [
    "!cat * > g_all.fasta"
   ]
  },
  {
   "cell_type": "code",
   "execution_count": null,
   "id": "40471792-adc3-44c2-a982-890dc5760c1e",
   "metadata": {},
   "outputs": [],
   "source": []
  }
 ],
 "metadata": {
  "kernelspec": {
   "display_name": "Python 3 (ipykernel)",
   "language": "python",
   "name": "python3"
  },
  "language_info": {
   "codemirror_mode": {
    "name": "ipython",
    "version": 3
   },
   "file_extension": ".py",
   "mimetype": "text/x-python",
   "name": "python",
   "nbconvert_exporter": "python",
   "pygments_lexer": "ipython3",
   "version": "3.10.11"
  }
 },
 "nbformat": 4,
 "nbformat_minor": 5
}
