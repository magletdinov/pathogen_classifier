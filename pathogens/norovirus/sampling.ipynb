{
 "cells": [
  {
   "cell_type": "code",
   "execution_count": 2,
   "id": "41933a16-61c6-4b67-9c50-cafc099a6837",
   "metadata": {
    "tags": []
   },
   "outputs": [],
   "source": [
    "import pandas as pd\n",
    "from pathlib import Path\n",
    "from Bio import SeqIO\n",
    "from Bio.SeqRecord import SeqRecord\n",
    "from Bio.Seq import Seq\n",
    "from collections import defaultdict"
   ]
  },
  {
   "cell_type": "code",
   "execution_count": 5,
   "id": "47812b6f-1cbc-4257-8dde-a83475855923",
   "metadata": {
    "tags": []
   },
   "outputs": [],
   "source": [
    "ROOT = Path().cwd()\n",
    "RAW_DATA = ROOT / \"raw_data\""
   ]
  },
  {
   "cell_type": "markdown",
   "id": "e8f9cd8c-b8ee-473b-b0aa-6cdb04c46ad1",
   "metadata": {},
   "source": [
    "## All together"
   ]
  },
  {
   "cell_type": "code",
   "execution_count": 48,
   "id": "58ff0c76-e1a5-41c3-ad32-d5a012ff9789",
   "metadata": {
    "tags": []
   },
   "outputs": [],
   "source": [
    "fasta = defaultdict(list)\n",
    "to_fasta = RAW_DATA.joinpath(\"norwalk_viruses.fasta\")\n",
    "for seq_record in SeqIO.parse(to_fasta, \"fasta\"):\n",
    "    clade = seq_record.description.split(\"|\")[2].split(\"/\")[0].split(\".\")[0]\n",
    "    fasta[clade].append(seq_record)"
   ]
  },
  {
   "cell_type": "code",
   "execution_count": 49,
   "id": "63f06297-bb9e-447d-9bc8-b664d8180f8e",
   "metadata": {
    "tags": []
   },
   "outputs": [
    {
     "data": {
      "text/plain": [
       "36"
      ]
     },
     "execution_count": 49,
     "metadata": {},
     "output_type": "execute_result"
    }
   ],
   "source": [
    "len(fasta.keys())"
   ]
  },
  {
   "cell_type": "code",
   "execution_count": 50,
   "id": "a275278f-cb86-4bf5-9c9f-72e8377f5584",
   "metadata": {
    "tags": []
   },
   "outputs": [],
   "source": [
    "fasta_by_len = {i:len(j) for i,j in fasta.items()}"
   ]
  },
  {
   "cell_type": "code",
   "execution_count": 51,
   "id": "13ce70d7-8add-4820-8c05-b7f35e838569",
   "metadata": {
    "tags": []
   },
   "outputs": [
    {
     "data": {
      "text/plain": [
       "{'Norovirus Hu': 749,\n",
       " 'Norovirus GII': 711,\n",
       " 'Norovirus GI': 67,\n",
       " 'Murine norovirus GV': 33,\n",
       " 'Norwalk-like virus': 17,\n",
       " 'Norovirus GIX': 16,\n",
       " 'Murine norovirus': 15,\n",
       " 'Murine norovirus 1': 14,\n",
       " 'Norovirus GIII': 8,\n",
       " 'Norovirus GIV': 6,\n",
       " 'Norovirus GV': 2,\n",
       " 'Norwalk virus': 2,\n",
       " 'Human calicivirus Hu': 2,\n",
       " 'Murine norovirus 3': 2,\n",
       " 'Norovirus GVI': 2,\n",
       " 'Norovirus dog': 1,\n",
       " 'Chiba virus': 1,\n",
       " 'Norovirus Bo': 1,\n",
       " 'Snow Mountain virus': 1,\n",
       " 'Human calicivirus strain Mc37': 1,\n",
       " 'Human calicivirus NLV': 1,\n",
       " 'Norovirus swine': 1,\n",
       " 'Norovirus mouse': 1,\n",
       " 'Murine norovirus 4': 1,\n",
       " 'Norovirus pig': 1,\n",
       " 'Norovirus cat': 1,\n",
       " 'Sapporo-HK299 virus': 1,\n",
       " 'Norovirus JB031230054': 1,\n",
       " 'Norovirus JB031230049': 1,\n",
       " 'Norovirus 12-BA-1': 1,\n",
       " 'Norovirus 12-CG-2-4': 1,\n",
       " 'Norovirus 12-AY-1': 1,\n",
       " 'Norovirus 12-AY-2': 1,\n",
       " 'Bat norovirus': 1,\n",
       " 'Lordsdale virus': 1,\n",
       " 'Norovirus GVII': 1}"
      ]
     },
     "execution_count": 51,
     "metadata": {},
     "output_type": "execute_result"
    }
   ],
   "source": [
    "dict(sorted(fasta_by_len.items(), key=lambda item:item[1], reverse=True))"
   ]
  },
  {
   "cell_type": "code",
   "execution_count": 58,
   "id": "adc038f6-13d4-4f1a-b4bf-c64181dff56a",
   "metadata": {
    "tags": []
   },
   "outputs": [
    {
     "data": {
      "text/plain": [
       "[SeqRecord(seq=Seq('GTGAATGAAGATGGCGTCTAACGACGCTTCCGCTGCCGCTGTTGCCAACAGCAA...TTT'), id='AY032605.1', name='AY032605.1', description='AY032605.1 |Human calicivirus Hu/NLV/GII/MD145-12/1987/US, complete genome|Human calicivirus Hu/NLV/GII/MD145-12/1987/US|7556|||', dbxrefs=[]),\n",
       " SeqRecord(seq=Seq('GTGAATGAAGATGGCGTCTAACGACGCTTCCGCTGCCGCTGTTGCTAACAGCAA...TTT'), id='AY581254.1', name='AY581254.1', description='AY581254.1 |Human calicivirus Hu/NLV/Oxford/B5S22/2003/UK, complete genome|Human calicivirus Hu/NLV/Oxford/B5S22/2003/UK|7558|||United Kingdom', dbxrefs=[])]"
      ]
     },
     "execution_count": 58,
     "metadata": {},
     "output_type": "execute_result"
    }
   ],
   "source": [
    "fasta[\"Human calicivirus Hu\"]"
   ]
  },
  {
   "cell_type": "markdown",
   "id": "9d29565e-1682-4195-afd8-b092affd45f3",
   "metadata": {},
   "source": [
    "Распарсить корректно не получилось. Будем скачивать каждую геногруппу по отдельности"
   ]
  },
  {
   "cell_type": "markdown",
   "id": "94c9e02f-9f79-436a-9d29-cb40c8ca4e3d",
   "metadata": {},
   "source": [
    "## Separately"
   ]
  },
  {
   "cell_type": "markdown",
   "id": "fc7a950b-2b23-4478-afb3-7cc645e20320",
   "metadata": {},
   "source": [
    "https://ru.wikipedia.org/wiki/Вирус_Норуолк#Классификация \\\n",
    "Вирус Норуолк — вирус без внешней оболочки из семейства Caliciviridae, геном которых представлен одноцепочечной (+)РНК, различают несколько генетических групп[34]. Согласно Международному комитету по таксономии вирусов род норовирусов имеет одну разновидность — вирус Норуолк (Norwalk virus), сокращенно «NV». Серотипы, штаммы и изоляты включают:\n",
    "\n",
    "вирус Пустыни Шилд (Desert Shield virus) [U04469] (Hu/NLV/DSV395/1990/SR)\n",
    "вирус Лордсдейл (Lordsdale virus) [X86557] (Hu/NLV/LD/1993/UK)\n",
    "вирус Мексико (Mexico virus)[U22498] (Hu/NLV/MX/1989/MX)\n",
    "вирус Норуолк (Norwalk virus) [M87661] (Hu/NLV/NV/1968/US)\n",
    "вирус Гавайи (Hawaii virus) [U07611] (Hu/NLV/HV/1971/US)\n",
    "вирус Снежных гор (Snow Mountain virus)[L23831] (Hu/NLV/SMV/1976/US)\n",
    "вирус Саут-хэмптон (Southampton virus) [L07418] (Hu/NLV/SHV/1991/UK).\n",
    "Во всём мире вирусы Норуолк являются основной причиной острого гастроэнтерита, часто заболевание проявляется групповыми вспышками в учреждениях. Норовирусы крайне заразны, уже 10 вирусных частиц способны вызвать инфекцию. Заболевание передаётся через заражённую пищу или воду и от человека к человеку. Механизм передачи главным образом фекально-оральный, но есть вероятность заразиться и воздушно-капельным путём, когда возбудители попадают в воздух с капельками рвотных масс.\\\n",
    "https://71.rospotrebnadzor.ru/content/590/75398/#:~:text=Норовирусы%20классифицируют%20на%205%20геногрупп,случаев%2C%20второй%20группы%20–%2080-90%25\n",
    "Норовирусы классифицируют на 5 геногрупп (GI, GII, GIII, GIV и GV). В основном представители I и II геногрупп обнаруживаются у заболевших людей вирусным гастроэнтеритом, геногруппы III и V поражают только животных. В структуре норовирусного гастроэнтерита на долю первой геногруппы приходится от 0,6 до 17% случаев, второй группы – 80-90%."
   ]
  },
  {
   "cell_type": "code",
   "execution_count": null,
   "id": "078c332c-e308-4029-bb74-a9c809f61762",
   "metadata": {},
   "outputs": [],
   "source": [
    "norovirus_genogroups = {\n",
    "    \"GI\":\n",
    "    \"GII\":\n",
    "    \"GIII\":\n",
    "    \"GIV\":\n",
    "    \"GV\":\n",
    "}"
   ]
  }
 ],
 "metadata": {
  "kernelspec": {
   "display_name": "Python 3 (ipykernel)",
   "language": "python",
   "name": "python3"
  },
  "language_info": {
   "codemirror_mode": {
    "name": "ipython",
    "version": 3
   },
   "file_extension": ".py",
   "mimetype": "text/x-python",
   "name": "python",
   "nbconvert_exporter": "python",
   "pygments_lexer": "ipython3",
   "version": "3.10.11"
  }
 },
 "nbformat": 4,
 "nbformat_minor": 5
}
